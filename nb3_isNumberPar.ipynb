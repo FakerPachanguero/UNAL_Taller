{
 "cells": [
  {
   "cell_type": "code",
   "execution_count": null,
   "metadata": {},
   "outputs": [],
   "source": [
    "#VARIABLES\n",
    "n : float = float(input(\"Escribe un número Real: \"))\n",
    "\n",
    "#CODE\n",
    "print(n, \" es par\") if n%2 == 0 else print(n, \" No es par\")"
   ]
  }
 ],
 "metadata": {
  "language_info": {
   "name": "python"
  },
  "orig_nbformat": 4
 },
 "nbformat": 4,
 "nbformat_minor": 2
}
