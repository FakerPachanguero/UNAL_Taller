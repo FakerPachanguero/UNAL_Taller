{
 "cells": [
  {
   "cell_type": "code",
   "execution_count": null,
   "metadata": {},
   "outputs": [],
   "source": [
    "\n",
    "#VARIABLES\n",
    "\n",
    "# Paises de America\n",
    "countries = [\n",
    "    \"canadá\", \"estados unidos\", \"méxico\",\n",
    "    \"belice\", \"costa rica\", \"el salvador\", \"guatemala\", \"honduras\", \"nicaragua\", \"panamá\",\n",
    "    \"argentina\", \"bolivia\", \"brasil\", \"chile\", \"colombia\", \"ecuador\", \"paraguay\", \"perú\",\n",
    "    \"surinam\", \"trinidad y tobago\", \"uruguay\", \"venezuela\",\n",
    "    \"antigua y barbuda\", \"bahamas\", \"barbados\", \"cuba\", \"dominica\", \"granada\", \"guyana\",\n",
    "    \"haití\", \"jamaica\", \"república dominicana\", \"san cristóbal y nieves\", \"san vicente y las granadinas\", \"santa lucía\"\n",
    "]\n",
    "\n",
    "# Capitales de Amrica\n",
    "capitals = [\n",
    "    \"otawwa\", \"washington dc\", \"méxico df\",\n",
    "    \"belmopán\", \"san josé\", \"san salvador\", \"ciudad de guatemala\", \"tegucigalpa\", \"managua\", \"panamá\",\n",
    "    \"buenos aires\", \"sucre\", \"brasilia\", \"santiago de chile\", \"bogotá\", \"quito\", \"asunción\", \"lima\",\n",
    "    \"parabarimo\", \"puerto españa\", \"montevideo\", \"caracas\",\n",
    "    \"saint john\", \"nasáu\", \"bridgetown\", \"la habana\", \"roseau\", \"saint george\", \"georgetown\",\n",
    "    \"puerto príncipe\", \"kingston\", \"santo domingo\", \"basseterre\", \"kingstown\", \"castries\"\n",
    "]\n",
    "\n",
    "# Nombre del país\n",
    "p : chr = input(\"Ingresa el nombre de un país (en español y en minusculas): \")\n",
    "\n",
    "\n",
    "#CODE\n",
    "\n",
    "if p in countries:\n",
    "    print(f\"La capital de {p} es: {capitals[countries.index(p)]}\")\n"
   ]
  }
 ],
 "metadata": {
  "language_info": {
   "name": "python"
  },
  "orig_nbformat": 4
 },
 "nbformat": 4,
 "nbformat_minor": 2
}
