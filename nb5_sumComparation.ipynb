{
 "cells": [
  {
   "cell_type": "code",
   "execution_count": null,
   "metadata": {},
   "outputs": [],
   "source": [
    " \n",
    "#VARIABLES\n",
    "a : float = float(input(\"Ingrese un número real: \"))\n",
    "b : float = float(input(\"Ingrese un número real: \"))\n",
    "c : float = float(input(\"Ingrese un número real: \"))\n",
    "\n",
    "\n",
    "#CODE\n",
    "if a+b < c:\n",
    "    print( f\"La suma de {a} + {b} es menor que {c}\" )\n",
    "elif a+b == c:\n",
    "    print( f\"La suma de {a} + {b} es igual a {c}\" )\n",
    "elif a+b > c:\n",
    "    print( f\"La suma de {a} + {b} es mayor que {c}\" )"
   ]
  }
 ],
 "metadata": {
  "language_info": {
   "name": "python"
  },
  "orig_nbformat": 4
 },
 "nbformat": 4,
 "nbformat_minor": 2
}
